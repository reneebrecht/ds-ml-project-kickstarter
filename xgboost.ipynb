{
 "cells": [
  {
   "cell_type": "code",
   "execution_count": 9,
   "metadata": {},
   "outputs": [],
   "source": [
    "# Import the organization modules\n",
    "import pandas as pd\n",
    "import numpy as np\n",
    "# Import module to ignore warnings\n",
    "import warnings\n",
    "warnings.filterwarnings('ignore')\n",
    "# Import the plot modules\n",
    "import matplotlib.pyplot as plt\n",
    "import seaborn as sns\n",
    "# Import own scripts\n",
    "from scripts.data_cleaning import (\n",
    "    read_all_csvs, \n",
    "    clean_data,\n",
    "    create_csv\n",
    "    )"
   ]
  },
  {
   "cell_type": "code",
   "execution_count": 13,
   "metadata": {},
   "outputs": [],
   "source": [
    "# Imports\n",
    "from sklearn.linear_model import SGDClassifier\n",
    "from sklearn.preprocessing import StandardScaler, MinMaxScaler\n",
    "from sklearn.pipeline import make_pipeline\n",
    "from sklearn.model_selection import train_test_split\n",
    "from sklearn.metrics import confusion_matrix, ConfusionMatrixDisplay, classification_report, accuracy_score, f1_score, fbeta_score, get_scorer_names\n",
    "\n",
    "from xgboost import XGBClassifier"
   ]
  },
  {
   "cell_type": "code",
   "execution_count": 10,
   "metadata": {},
   "outputs": [],
   "source": [
    "# Create data frame from all single CSV files\n",
    "df = read_all_csvs()\n",
    "# Clean the data\n",
    "df = clean_data(df)"
   ]
  },
  {
   "cell_type": "code",
   "execution_count": 12,
   "metadata": {},
   "outputs": [],
   "source": [
    "features = df.columns.to_list()\n",
    "features.remove('state')\n",
    "X = df[features]\n",
    "y = df.state\n",
    "\n",
    "\n",
    "X_train, X_test, y_train, y_test = train_test_split(X, y, test_size=0.3, random_state=42, shuffle=True, stratify=y)"
   ]
  },
  {
   "cell_type": "code",
   "execution_count": 15,
   "metadata": {},
   "outputs": [],
   "source": [
    "y_train = np.where(y_train == \"successful\", 1, 0)"
   ]
  },
  {
   "cell_type": "code",
   "execution_count": 16,
   "metadata": {},
   "outputs": [],
   "source": [
    "y_test = np.where(y_test == \"successful\", 1, 0)"
   ]
  },
  {
   "cell_type": "code",
   "execution_count": 17,
   "metadata": {},
   "outputs": [],
   "source": [
    "# Always scale the input. The most convenient way is to use a pipeline.\n",
    "clf = make_pipeline(MinMaxScaler(), XGBClassifier())\n",
    "clf.fit(X_train, y_train)\n",
    "\n",
    "y_pred = clf.predict(X_test)\n",
    "y_pred_train = clf.predict(X_train)"
   ]
  },
  {
   "cell_type": "code",
   "execution_count": 18,
   "metadata": {},
   "outputs": [
    {
     "name": "stdout",
     "output_type": "stream",
     "text": [
      "f_beta_score:  0.81\n",
      "Accuracy on train set: 0.82\n",
      "Accuracy on test set: 0.81\n",
      "--------------------------------------------------------------------------------\n",
      "              precision    recall  f1-score   support\n",
      "\n",
      "           0       0.77      0.84      0.80     25014\n",
      "           1       0.85      0.78      0.81     28378\n",
      "\n",
      "    accuracy                           0.81     53392\n",
      "   macro avg       0.81      0.81      0.81     53392\n",
      "weighted avg       0.81      0.81      0.81     53392\n",
      "\n",
      "--------------------------------------------------------------------------------\n"
     ]
    }
   ],
   "source": [
    "print(\"f_beta_score: \", fbeta_score(y_test, y_pred, beta = 2, average = 'macro').round(2))\n",
    "\n",
    "# Print accuracy of our model\n",
    "print(\"Accuracy on train set:\", round(accuracy_score(y_train, y_pred_train), 2))\n",
    "print(\"Accuracy on test set:\", round(accuracy_score(y_test, y_pred), 2))\n",
    "print(\"--------\"*10)\n",
    "\n",
    "# Print classification report of our model\n",
    "print(classification_report(y_test, y_pred))\n",
    "print(\"--------\"*10)\n",
    "\n",
    "# Evaluate the model with a confusion matrix\n",
    "cm = confusion_matrix(y_test, y_pred)"
   ]
  },
  {
   "cell_type": "code",
   "execution_count": 20,
   "metadata": {},
   "outputs": [
    {
     "data": {
      "image/png": "[encoded data removed]",
      "text/plain": [
       "<Figure size 720x720 with 2 Axes>"
      ]
     },
     "metadata": {
      "needs_background": "light"
     },
     "output_type": "display_data"
    }
   ],
   "source": [
    "## Create the Confusion Matrix Display Object(cmd_obj)\n",
    "cmd_obj = ConfusionMatrixDisplay(cm, display_labels=['failed', 'succesful'])\n",
    "## The plot() function has to be called for the sklearn visualization\n",
    "## code to do its work and the Axes object to be created.\n",
    "fig, ax = plt.subplots(figsize=(10,10))\n",
    "\n",
    "## Set the color\n",
    "cmd_obj.plot(ax=ax, cmap = 'Blues')\n",
    "## Use the Axes attribute 'ax_' to get to the underlying Axes object.\n",
    "## The Axes object controls the labels for the X and the Y axes. It\n",
    "## also controls the title.\n",
    "cmd_obj.ax_.set(\n",
    "                title='XGBClassifier model prediction of kickstarter projects', \n",
    "                xlabel='Predicted State', \n",
    "                ylabel='Actual States',\n",
    "                )\n",
    "## Finally, call the matplotlib show() function to display the visualization\n",
    "## of the Confusion Matrix.\n",
    "plt.show()"
   ]
  }
 ],
 "metadata": {
  "interpreter": {
   "hash": "fcc4c9d6d17d484fac2b147b72653b02ddd79b989068514f248bbf2d54398ad4"
  },
  "kernelspec": {
   "display_name": "Python 3.9.8 ('.venv': venv)",
   "language": "python",
   "name": "python3"
  },
  "language_info": {
   "codemirror_mode": {
    "name": "ipython",
    "version": 3
   },
   "file_extension": ".py",
   "mimetype": "text/x-python",
   "name": "python",
   "nbconvert_exporter": "python",
   "pygments_lexer": "ipython3",
   "version": "3.9.8"
  },
  "orig_nbformat": 4
 },
 "nbformat": 4,
 "nbformat_minor": 2
}
