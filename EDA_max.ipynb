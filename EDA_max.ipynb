{
 "cells": [
  {
   "cell_type": "code",
   "execution_count": 11,
   "metadata": {},
   "outputs": [],
   "source": [
    "# Import the own modules\n",
    "import sys\n",
    "# adding Folder_2 to the system path\n",
    "sys.path.insert(0, './scripts/')\n",
    "from data_cleaning import read_all_csvs\n",
    "\n",
    "# Import needed modules\n",
    "import pandas as pd"
   ]
  },
  {
   "cell_type": "code",
   "execution_count": 13,
   "metadata": {},
   "outputs": [],
   "source": [
    "# Set the base name of the csv files\n",
    "csv_name = 'Kickstarter0'\n",
    "df = pd.DataFrame()\n",
    "# Iterate through the numbers 0 to 55\n",
    "for num in range(0,56):\n",
    "    # Convert number to a string\n",
    "    num = str(num)\n",
    "    # If single digit number, add a 0 to the front\n",
    "    if len(num) == 1:\n",
    "        num = '0' + num\n",
    "    # Load the current csv\n",
    "    curr_df = pd.read_csv(str('./data/' + csv_name + num + '.csv'))\n",
    "    # Merge all csv data to one data frame.\n",
    "    df = pd.concat([df, curr_df], axis=0)"
   ]
  },
  {
   "cell_type": "code",
   "execution_count": 2,
   "metadata": {},
   "outputs": [],
   "source": []
  }
 ],
 "metadata": {
  "interpreter": {
   "hash": "96587044b1dfdfd1fb4688c5acb1fc1875e7f8d1d9eb2423c70f1e125b785156"
  },
  "kernelspec": {
   "display_name": "Python 3.9.8 ('.venv': venv)",
   "language": "python",
   "name": "python3"
  },
  "language_info": {
   "codemirror_mode": {
    "name": "ipython",
    "version": 3
   },
   "file_extension": ".py",
   "mimetype": "text/x-python",
   "name": "python",
   "nbconvert_exporter": "python",
   "pygments_lexer": "ipython3",
   "version": "3.9.8"
  },
  "orig_nbformat": 4
 },
 "nbformat": 4,
 "nbformat_minor": 2
}
