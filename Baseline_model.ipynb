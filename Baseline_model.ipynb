{
 "cells": [
  {
   "cell_type": "markdown",
   "metadata": {},
   "source": [
    "---\n",
    "---\n",
    "## Data cleaning"
   ]
  },
  {
   "cell_type": "code",
   "execution_count": 1,
   "metadata": {},
   "outputs": [],
   "source": [
    "# Import the organization modules\n",
    "import pandas as pd\n",
    "import numpy as np\n",
    "# Import module to ignore warnings\n",
    "import warnings\n",
    "warnings.filterwarnings('ignore')\n",
    "# Import the plot modules\n",
    "import matplotlib.pyplot as plt\n",
    "import seaborn as sns\n",
    "# Import own scripts\n",
    "from scripts.data_cleaning import (\n",
    "    read_all_csvs, \n",
    "    clean_data,\n",
    "    create_csv\n",
    "    )"
   ]
  },
  {
   "cell_type": "code",
   "execution_count": 2,
   "metadata": {},
   "outputs": [],
   "source": [
    "# Create data frame from all single CSV files\n",
    "df = read_all_csvs()\n",
    "# Clean the data\n",
    "df = clean_data(df)"
   ]
  },
  {
   "cell_type": "markdown",
   "metadata": {},
   "source": [
    "## Baseline model"
   ]
  },
  {
   "cell_type": "code",
   "execution_count": 5,
   "metadata": {},
   "outputs": [],
   "source": [
    "# Import \n",
    "from sklearn.dummy import DummyClassifier\n",
    "from sklearn.model_selection import train_test_split\n",
    "from sklearn.linear_model import LogisticRegression\n",
    "\n",
    "from sklearn.metrics import confusion_matrix, ConfusionMatrixDisplay, classification_report, accuracy_score, f1_score, fbeta_score"
   ]
  },
  {
   "cell_type": "markdown",
   "metadata": {},
   "source": [
    "### Dummy Classifier"
   ]
  },
  {
   "cell_type": "code",
   "execution_count": 3,
   "metadata": {},
   "outputs": [],
   "source": [
    "features = df.columns.to_list()\n",
    "features.remove('state')\n",
    "X = df[features]\n",
    "y = df.state"
   ]
  },
  {
   "cell_type": "code",
   "execution_count": 6,
   "metadata": {},
   "outputs": [],
   "source": [
    "X_train, X_test, y_train, y_test = train_test_split(X, y, test_size=0.3, random_state=42, shuffle=True, stratify=y)"
   ]
  },
  {
   "cell_type": "code",
   "execution_count": 7,
   "metadata": {},
   "outputs": [
    {
     "name": "stdout",
     "output_type": "stream",
     "text": [
      "f_beta_score:  0.58\n",
      "              precision    recall  f1-score   support\n",
      "\n",
      "    canceled       0.00      0.00      0.00      2584\n",
      "      failed       0.00      0.00      0.00     22546\n",
      "  successful       0.58      1.00      0.74     35178\n",
      "   suspended       0.00      0.00      0.00       187\n",
      "\n",
      "    accuracy                           0.58     60495\n",
      "   macro avg       0.15      0.25      0.18     60495\n",
      "weighted avg       0.34      0.58      0.43     60495\n",
      "\n",
      "--------------------------------------------------------------------------------\n"
     ]
    }
   ],
   "source": [
    "# Use DummyClassifier as a baseline model\n",
    "dummy_clf = DummyClassifier(strategy=\"prior\")\n",
    "dummy_clf.fit(X_train, y_train)\n",
    "y_predict = dummy_clf.predict(X_test)\n",
    "\n",
    "\n",
    "print(\"f_beta_score: \", fbeta_score(y_test, y_predict, beta = 2, average = 'micro').round(2))\n",
    "\n",
    "# Print classification report of our model\n",
    "print(classification_report(y_test, y_predict))\n",
    "print(\"--------\"*10)\n",
    "\n",
    "# Evaluate the model with a confusion matrix\n",
    "cm = confusion_matrix(y_test, y_predict)"
   ]
  },
  {
   "cell_type": "markdown",
   "metadata": {},
   "source": [
    "### Simple logistic regression"
   ]
  },
  {
   "cell_type": "code",
   "execution_count": 21,
   "metadata": {},
   "outputs": [
    {
     "name": "stdout",
     "output_type": "stream",
     "text": [
      "f_beta_score:  0.58\n",
      "Accuracy on train set: 0.81\n",
      "Accuracy on test set: 0.81\n",
      "--------------------------------------------------------------------------------\n",
      "              precision    recall  f1-score   support\n",
      "\n",
      "    canceled       0.00      0.00      0.00      2584\n",
      "      failed       0.70      0.90      0.79     22546\n",
      "  successful       0.92      0.82      0.87     35178\n",
      "   suspended       0.00      0.00      0.00       187\n",
      "\n",
      "    accuracy                           0.81     60495\n",
      "   macro avg       0.40      0.43      0.41     60495\n",
      "weighted avg       0.79      0.81      0.80     60495\n",
      "\n",
      "--------------------------------------------------------------------------------\n"
     ]
    }
   ],
   "source": [
    "# Logistic Regression\n",
    "log_reg = LogisticRegression(max_iter=100)\n",
    "log_reg.fit(X_train, y_train)\n",
    "\n",
    "y_pred_train = log_reg.predict(X_train)\n",
    "y_pred = log_reg.predict(X_test)\n",
    "\n",
    "# Print fbeta_score\n",
    "print(\"f_beta_score: \", fbeta_score(y_test, y_predict, beta = 2, average = 'micro').round(2))\n",
    "\n",
    "# Print accuracy of our model\n",
    "print(\"Accuracy on train set:\", round(accuracy_score(y_train, y_pred_train), 2))\n",
    "print(\"Accuracy on test set:\", round(accuracy_score(y_test, y_pred), 2))\n",
    "print(\"--------\"*10)\n",
    "\n",
    "# Print classification report of our model\n",
    "print(classification_report(y_test, y_pred))\n",
    "print(\"--------\"*10)"
   ]
  },
  {
   "cell_type": "code",
   "execution_count": 19,
   "metadata": {},
   "outputs": [],
   "source": [
    "# Evaluate the model with a confusion matrix\n",
    "cm = confusion_matrix(y_test, y_pred)"
   ]
  },
  {
   "cell_type": "code",
   "execution_count": 20,
   "metadata": {},
   "outputs": [
    {
     "data": {
      "image/png": "[encoded data removed]",
      "text/plain": [
       "<Figure size 720x720 with 2 Axes>"
      ]
     },
     "metadata": {
      "needs_background": "light"
     },
     "output_type": "display_data"
    }
   ],
   "source": [
    "## Create the Confusion Matrix Display Object(cmd_obj). Note the \n",
    "## alphabetical sorting order of the labels.\n",
    "cmd_obj = ConfusionMatrixDisplay(cm, display_labels=['canceled', 'failed', 'succesful', 'suspended'])\n",
    "## The plot() function has to be called for the sklearn visualization\n",
    "## code to do its work and the Axes object to be created.\n",
    "fig, ax = plt.subplots(figsize=(10,10))\n",
    "\n",
    "## Set the color\n",
    "cmd_obj.plot(ax=ax, cmap = 'Blues')\n",
    "## Use the Axes attribute 'ax_' to get to the underlying Axes object.\n",
    "## The Axes object controls the labels for the X and the Y axes. It\n",
    "## also controls the title.\n",
    "cmd_obj.ax_.set(\n",
    "                title='Baseline model prediction of kickstarter projects', \n",
    "                xlabel='Predicted State', \n",
    "                ylabel='Actual States',\n",
    "                )\n",
    "## Finally, call the matplotlib show() function to display the visualization\n",
    "## of the Confusion Matrix.\n",
    "plt.show()"
   ]
  }
 ],
 "metadata": {
  "interpreter": {
   "hash": "fcc4c9d6d17d484fac2b147b72653b02ddd79b989068514f248bbf2d54398ad4"
  },
  "kernelspec": {
   "display_name": "Python 3.9.8 ('.venv': venv)",
   "language": "python",
   "name": "python3"
  },
  "language_info": {
   "codemirror_mode": {
    "name": "ipython",
    "version": 3
   },
   "file_extension": ".py",
   "mimetype": "text/x-python",
   "name": "python",
   "nbconvert_exporter": "python",
   "pygments_lexer": "ipython3",
   "version": "3.9.8"
  },
  "orig_nbformat": 4
 },
 "nbformat": 4,
 "nbformat_minor": 2
}
