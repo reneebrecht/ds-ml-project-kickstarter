{
 "cells": [
  {
   "cell_type": "markdown",
   "metadata": {},
   "source": [
    "---\n",
    "---\n",
    "## Data Cleaning"
   ]
  },
  {
   "cell_type": "code",
   "execution_count": 3,
   "metadata": {},
   "outputs": [],
   "source": [
    "# Import the organization modules\n",
    "import pandas as pd\n",
    "import numpy as np\n",
    "# Import module to ignore warnings\n",
    "import warnings\n",
    "warnings.filterwarnings('ignore')\n",
    "# Import the plot modules\n",
    "import matplotlib.pyplot as plt\n",
    "import seaborn as sns\n",
    "# Import own scripts\n",
    "from scripts.data_cleaning import (\n",
    "    read_all_csvs, \n",
    "    clean_data,\n",
    "    create_csv\n",
    "    )"
   ]
  },
  {
   "cell_type": "code",
   "execution_count": 2,
   "metadata": {},
   "outputs": [],
   "source": [
    "# Create data frame from all single CSV files\n",
    "df = read_all_csvs()\n",
    "# Clean the data\n",
    "df = clean_data(df)"
   ]
  },
  {
   "cell_type": "code",
   "execution_count": null,
   "metadata": {},
   "outputs": [],
   "source": [
    "features = df.columns.to_list()\n",
    "features.remove('state')\n",
    "X = df[features]\n",
    "y = df.state\n",
    "\n",
    "X_train, X_test, y_train, y_test = train_test_split(X, y, test_size=0.3, random_state=42, shuffle=True, stratify=y)"
   ]
  },
  {
   "cell_type": "markdown",
   "metadata": {},
   "source": [
    "---\n",
    "---\n",
    "## Modeling"
   ]
  },
  {
   "cell_type": "code",
   "execution_count": 11,
   "metadata": {},
   "outputs": [],
   "source": [
    "# Imports\n",
    "from sklearn.linear_model import SGDClassifier\n",
    "from sklearn.preprocessing import StandardScaler\n",
    "from sklearn.pipeline import make_pipeline\n",
    "from sklearn.model_selection import train_test_split\n",
    "from sklearn.metrics import confusion_matrix, ConfusionMatrixDisplay, classification_report, accuracy_score, f1_score, fbeta_score"
   ]
  },
  {
   "cell_type": "markdown",
   "metadata": {},
   "source": [
    "---\n",
    "---\n",
    "### SGDClassifier"
   ]
  },
  {
   "cell_type": "code",
   "execution_count": 12,
   "metadata": {},
   "outputs": [],
   "source": [
    "# Always scale the input. The most convenient way is to use a pipeline.\n",
    "clf = make_pipeline(StandardScaler(), SGDClassifier(max_iter=10000, tol=1e-3))\n",
    "clf.fit(X_train, y_train)\n",
    "\n",
    "y_pred = clf.predict(X_test)\n",
    "y_pred_train = clf.predict(X_train)"
   ]
  },
  {
   "cell_type": "code",
   "execution_count": 13,
   "metadata": {},
   "outputs": [
    {
     "name": "stdout",
     "output_type": "stream",
     "text": [
      "f_beta_score:  0.76\n",
      "Accuracy on train set: 0.76\n",
      "Accuracy on test set: 0.76\n",
      "--------------------------------------------------------------------------------\n",
      "              precision    recall  f1-score   support\n",
      "\n",
      "      failed       0.73      0.80      0.76     25014\n",
      "  successful       0.80      0.74      0.77     28378\n",
      "\n",
      "    accuracy                           0.76     53392\n",
      "   macro avg       0.76      0.77      0.76     53392\n",
      "weighted avg       0.77      0.76      0.76     53392\n",
      "\n",
      "--------------------------------------------------------------------------------\n"
     ]
    }
   ],
   "source": [
    "print(\"f_beta_score: \", fbeta_score(y_test, y_pred, beta = 2, average = 'macro').round(2))\n",
    "\n",
    "# Print accuracy of our model\n",
    "print(\"Accuracy on train set:\", round(accuracy_score(y_train, y_pred_train), 2))\n",
    "print(\"Accuracy on test set:\", round(accuracy_score(y_test, y_pred), 2))\n",
    "print(\"--------\"*10)\n",
    "\n",
    "# Print classification report of our model\n",
    "print(classification_report(y_test, y_pred))\n",
    "print(\"--------\"*10)\n",
    "\n",
    "# Evaluate the model with a confusion matrix\n",
    "cm = confusion_matrix(y_test, y_pred)"
   ]
  },
  {
   "cell_type": "code",
   "execution_count": 14,
   "metadata": {},
   "outputs": [
    {
     "data": {
      "image/png": "[encoded data removed]",
      "text/plain": [
       "<Figure size 720x720 with 2 Axes>"
      ]
     },
     "metadata": {
      "needs_background": "light"
     },
     "output_type": "display_data"
    }
   ],
   "source": [
    "## Create the Confusion Matrix Display Object(cmd_obj)\n",
    "cmd_obj = ConfusionMatrixDisplay(cm, display_labels=['failed', 'succesful'])\n",
    "## The plot() function has to be called for the sklearn visualization\n",
    "## code to do its work and the Axes object to be created.\n",
    "fig, ax = plt.subplots(figsize=(10,10))\n",
    "\n",
    "## Set the color\n",
    "cmd_obj.plot(ax=ax, cmap = 'Blues')\n",
    "## Use the Axes attribute 'ax_' to get to the underlying Axes object.\n",
    "## The Axes object controls the labels for the X and the Y axes. It\n",
    "## also controls the title.\n",
    "cmd_obj.ax_.set(\n",
    "                title='Baseline model prediction of kickstarter projects', \n",
    "                xlabel='Predicted State', \n",
    "                ylabel='Actual States',\n",
    "                )\n",
    "## Finally, call the matplotlib show() function to display the visualization\n",
    "## of the Confusion Matrix.\n",
    "plt.show()"
   ]
  },
  {
   "cell_type": "markdown",
   "metadata": {},
   "source": [
    "Since feature importance is crucial for consulting we want to use a white box model"
   ]
  },
  {
   "cell_type": "markdown",
   "metadata": {},
   "source": [
    "---\n",
    "---\n",
    "### DecisionTreeClassifier"
   ]
  },
  {
   "cell_type": "code",
   "execution_count": 15,
   "metadata": {},
   "outputs": [],
   "source": [
    "from sklearn.tree import DecisionTreeClassifier"
   ]
  },
  {
   "cell_type": "code",
   "execution_count": 17,
   "metadata": {},
   "outputs": [],
   "source": [
    "# Always scale the input. The most convenient way is to use a pipeline.\n",
    "clf = make_pipeline(StandardScaler(), DecisionTreeClassifier(random_state=42))\n",
    "clf.fit(X_train, y_train)\n",
    "\n",
    "y_pred = clf.predict(X_test)\n",
    "y_pred_train = clf.predict(X_train)"
   ]
  },
  {
   "cell_type": "code",
   "execution_count": 18,
   "metadata": {},
   "outputs": [
    {
     "name": "stdout",
     "output_type": "stream",
     "text": [
      "f_beta_score:  0.73\n",
      "Accuracy on train set: 1.0\n",
      "Accuracy on test set: 0.73\n",
      "--------------------------------------------------------------------------------\n",
      "              precision    recall  f1-score   support\n",
      "\n",
      "      failed       0.72      0.72      0.72     25014\n",
      "  successful       0.75      0.75      0.75     28378\n",
      "\n",
      "    accuracy                           0.73     53392\n",
      "   macro avg       0.73      0.73      0.73     53392\n",
      "weighted avg       0.73      0.73      0.73     53392\n",
      "\n",
      "--------------------------------------------------------------------------------\n"
     ]
    }
   ],
   "source": [
    "print(\"f_beta_score: \", fbeta_score(y_test, y_pred, beta = 2, average = 'macro').round(2))\n",
    "\n",
    "# Print accuracy of our model\n",
    "print(\"Accuracy on train set:\", round(accuracy_score(y_train, y_pred_train), 2))\n",
    "print(\"Accuracy on test set:\", round(accuracy_score(y_test, y_pred), 2))\n",
    "print(\"--------\"*10)\n",
    "\n",
    "# Print classification report of our model\n",
    "print(classification_report(y_test, y_pred))\n",
    "print(\"--------\"*10)\n",
    "\n",
    "# Evaluate the model with a confusion matrix\n",
    "cm = confusion_matrix(y_test, y_pred)"
   ]
  },
  {
   "cell_type": "code",
   "execution_count": 19,
   "metadata": {},
   "outputs": [
    {
     "data": {
      "image/png": "[encoded data removed]",
      "text/plain": [
       "<Figure size 720x720 with 2 Axes>"
      ]
     },
     "metadata": {
      "needs_background": "light"
     },
     "output_type": "display_data"
    }
   ],
   "source": [
    "## Create the Confusion Matrix Display Object(cmd_obj)\n",
    "cmd_obj = ConfusionMatrixDisplay(cm, display_labels=['failed', 'succesful'])\n",
    "## The plot() function has to be called for the sklearn visualization\n",
    "## code to do its work and the Axes object to be created.\n",
    "fig, ax = plt.subplots(figsize=(10,10))\n",
    "\n",
    "## Set the color\n",
    "cmd_obj.plot(ax=ax, cmap = 'Blues')\n",
    "## Use the Axes attribute 'ax_' to get to the underlying Axes object.\n",
    "## The Axes object controls the labels for the X and the Y axes. It\n",
    "## also controls the title.\n",
    "cmd_obj.ax_.set(\n",
    "                title='Baseline model prediction of kickstarter projects', \n",
    "                xlabel='Predicted State', \n",
    "                ylabel='Actual States',\n",
    "                )\n",
    "## Finally, call the matplotlib show() function to display the visualization\n",
    "## of the Confusion Matrix.\n",
    "plt.show()"
   ]
  },
  {
   "cell_type": "markdown",
   "metadata": {},
   "source": [
    "#### Feature importance"
   ]
  },
  {
   "cell_type": "code",
   "execution_count": 21,
   "metadata": {},
   "outputs": [
    {
     "ename": "AttributeError",
     "evalue": "'Pipeline' object has no attribute 'feature_importances_'",
     "output_type": "error",
     "traceback": [
      "\u001b[0;31m---------------------------------------------------------------------------\u001b[0m",
      "\u001b[0;31mAttributeError\u001b[0m                            Traceback (most recent call last)",
      "\u001b[1;32mUntitled-1.ipynb Cell 18'\u001b[0m in \u001b[0;36m<cell line: 3>\u001b[0;34m()\u001b[0m\n\u001b[1;32m      <a href='vscode-notebook-cell:Untitled-1.ipynb?jupyter-notebook#ch0000020untitled?line=0'>1</a>\u001b[0m \u001b[39m# let's create a dictionary of features and their importance values\u001b[39;00m\n\u001b[1;32m      <a href='vscode-notebook-cell:Untitled-1.ipynb?jupyter-notebook#ch0000020untitled?line=1'>2</a>\u001b[0m feat_dict\u001b[39m=\u001b[39m {}\n\u001b[0;32m----> <a href='vscode-notebook-cell:Untitled-1.ipynb?jupyter-notebook#ch0000020untitled?line=2'>3</a>\u001b[0m \u001b[39mfor\u001b[39;00m col, val \u001b[39min\u001b[39;00m \u001b[39msorted\u001b[39m(\u001b[39mzip\u001b[39m(X_train\u001b[39m.\u001b[39mcolumns, clf\u001b[39m.\u001b[39;49mfeature_importances_),key\u001b[39m=\u001b[39m\u001b[39mlambda\u001b[39;00m x:x[\u001b[39m1\u001b[39m],reverse\u001b[39m=\u001b[39m\u001b[39mTrue\u001b[39;00m):\n\u001b[1;32m      <a href='vscode-notebook-cell:Untitled-1.ipynb?jupyter-notebook#ch0000020untitled?line=3'>4</a>\u001b[0m   feat_dict[col]\u001b[39m=\u001b[39mval\n",
      "\u001b[0;31mAttributeError\u001b[0m: 'Pipeline' object has no attribute 'feature_importances_'"
     ]
    }
   ],
   "source": [
    "# let's create a dictionary of features and their importance values\n",
    "feat_dict= {}\n",
    "for col, val in sorted(zip(X_train.columns, clf.feature_importances_),key=lambda x:x[1],reverse=True):\n",
    "  feat_dict[col]=val"
   ]
  }
 ],
 "metadata": {
  "interpreter": {
   "hash": "fcc4c9d6d17d484fac2b147b72653b02ddd79b989068514f248bbf2d54398ad4"
  },
  "kernelspec": {
   "display_name": "Python 3.9.8 ('.venv': venv)",
   "language": "python",
   "name": "python3"
  },
  "language_info": {
   "codemirror_mode": {
    "name": "ipython",
    "version": 3
   },
   "file_extension": ".py",
   "mimetype": "text/x-python",
   "name": "python",
   "nbconvert_exporter": "python",
   "pygments_lexer": "ipython3",
   "version": "3.9.8"
  },
  "orig_nbformat": 4
 },
 "nbformat": 4,
 "nbformat_minor": 2
}
