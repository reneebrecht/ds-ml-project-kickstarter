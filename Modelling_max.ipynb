{
 "cells": [
  {
   "cell_type": "code",
   "execution_count": null,
   "metadata": {},
   "outputs": [],
   "source": [
    "# Import the organization modules\n",
    "import pandas as pd\n",
    "import numpy as np\n",
    "# Import module to ignore warnings\n",
    "import warnings\n",
    "warnings.filterwarnings('ignore')\n",
    "# Import the plot modules\n",
    "import matplotlib.pyplot as plt\n",
    "import seaborn as sns\n",
    "# Import own scripts\n",
    "from scripts.data_cleaning import (\n",
    "    read_all_csvs, \n",
    "    clean_data,\n",
    "    create_csv\n",
    "    )"
   ]
  },
  {
   "cell_type": "code",
   "execution_count": null,
   "metadata": {},
   "outputs": [],
   "source": [
    "# Create data frame from all single CSV files\n",
    "df = read_all_csvs()\n",
    "# Clean the data\n",
    "df = clean_data(df)"
   ]
  },
  {
   "cell_type": "code",
   "execution_count": null,
   "metadata": {},
   "outputs": [],
   "source": [
    "from sklearn.dummy import DummyClassifier\n",
    "from sklearn.model_selection import train_test_split\n",
    "from sklearn.neighbors import KNeighborsClassifier\n",
    "from sklearn.tree import DecisionTreeClassifier\n",
    "from sklearn.linear_model import LogisticRegression\n",
    "from sklearn.svm import SVC\n",
    "from sklearn.naive_bayes import GaussianNB\n",
    "\n",
    "from sklearn.metrics import confusion_matrix, ConfusionMatrixDisplay, classification_report, accuracy_score, f1_score, fbeta_score\n",
    "\n",
    "\n",
    "RSEED = 42  "
   ]
  },
  {
   "cell_type": "code",
   "execution_count": null,
   "metadata": {},
   "outputs": [],
   "source": [
    "features = df.columns.to_list()\n",
    "features.remove('state')\n",
    "X = df[features]\n",
    "y = df.state"
   ]
  },
  {
   "cell_type": "code",
   "execution_count": null,
   "metadata": {},
   "outputs": [],
   "source": [
    "X_train, X_test, y_train, y_test = train_test_split(X, y, test_size=0.3, random_state=RSEED, shuffle=True, stratify=y)"
   ]
  },
  {
   "cell_type": "code",
   "execution_count": null,
   "metadata": {},
   "outputs": [],
   "source": [
    "# Use DummyClassifier as a baseline model\n",
    "dummy_clf = DummyClassifier(strategy=\"prior\")\n",
    "dummy_clf.fit(X_train, y_train)\n",
    "y_predict_train = dummy_clf.predict(X_train)\n",
    "y_predict = dummy_clf.predict(X_test)\n",
    "\n",
    "\n",
    "print(\"f_beta_score on train set: \", fbeta_score(y_test, y_predict_train, beta = 2, average = 'macro').round(2))\n",
    "print(\"f_beta_score on test set: \", fbeta_score(y_test, y_predict, beta = 2, average = 'macro').round(2))\n",
    "print(\"--------\"*10)\n",
    "\n",
    "# Print accuracy of our model\n",
    "print(\"Accuracy on train set:\", round(accuracy_score(y_train, y_predict_train), 2))\n",
    "print(\"Accuracy on test set:\", round(accuracy_score(y_test, y_predict), 2))\n",
    "print(\"--------\"*10)\n",
    "\n",
    "# Print classification report of our model\n",
    "print(classification_report(y_test, y_predict))\n",
    "print(\"--------\"*10)\n",
    "\n",
    "# Evaluate the model with a confusion matrix\n",
    "cm = confusion_matrix(y_test, y_predict)"
   ]
  },
  {
   "cell_type": "code",
   "execution_count": null,
   "metadata": {},
   "outputs": [],
   "source": [
    "## Create the Confusion Matrix Display Object(cmd_obj). Note the \n",
    "## alphabetical sorting order of the labels.\n",
    "cmd_obj = ConfusionMatrixDisplay(cm, display_labels=['failed', 'succesful'])\n",
    "## The plot() function has to be called for the sklearn visualization\n",
    "## code to do its work and the Axes object to be created.\n",
    "fig, ax = plt.subplots(figsize=(10,10))\n",
    "\n",
    "## Set the color\n",
    "cmd_obj.plot(ax=ax, cmap = 'Blues')\n",
    "## Use the Axes attribute 'ax_' to get to the underlying Axes object.\n",
    "## The Axes object controls the labels for the X and the Y axes. It\n",
    "## also controls the title.\n",
    "cmd_obj.ax_.set(\n",
    "                title='Baseline model prediction of kickstarter projects', \n",
    "                xlabel='Predicted State', \n",
    "                ylabel='Actual States',\n",
    "                )\n",
    "## Finally, call the matplotlib show() function to display the visualization\n",
    "## of the Confusion Matrix.\n",
    "plt.show()"
   ]
  },
  {
   "cell_type": "code",
   "execution_count": null,
   "metadata": {},
   "outputs": [],
   "source": [
    "# models = {\n",
    "#     'KNN': KNeighborsClassifier(), \n",
    "#     'DecisionTree': DecisionTreeClassifier(random_state=RSEED),\n",
    "#     'Logistic': LogisticRegression(random_state=RSEED),\n",
    "#     'SVM': SVC(random_state=RSEED),\n",
    "#     'Bayes': GaussianNB()\n",
    "#     }\n",
    "\n",
    "# predictions_train = []\n",
    "# fbetas = []\n",
    "\n",
    "# for key in models.keys():\n",
    "#     model_name = key\n",
    "#     clf = models[key].fit(X_train, y_train)\n",
    "#     y_pred_train = clf.predict(X_train)\n",
    "#     predictions_train.append(y_pred_train)\n",
    "#     fbeta = fbeta_score(y_train, y_pred_train, beta = 2, average = 'macro').round(2)\n",
    "#     fbetas.append(fbeta)"
   ]
  }
 ],
 "metadata": {
  "language_info": {
   "name": "python"
  },
  "orig_nbformat": 4
 },
 "nbformat": 4,
 "nbformat_minor": 2
}
